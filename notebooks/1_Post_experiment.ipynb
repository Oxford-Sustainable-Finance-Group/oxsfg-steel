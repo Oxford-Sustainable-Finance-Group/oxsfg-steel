{
 "cells": [
  {
   "cell_type": "code",
   "execution_count": null,
   "id": "7e2e9f1c-2902-45f7-a625-6776d72ee55f",
   "metadata": {},
   "outputs": [],
   "source": [
    "import pickle, os"
   ]
  },
  {
   "cell_type": "code",
   "execution_count": null,
   "id": "bbcb02c2-8685-495f-9018-735e3db76c1b",
   "metadata": {},
   "outputs": [],
   "source": [
    "import numpy as np"
   ]
  },
  {
   "cell_type": "code",
   "execution_count": null,
   "id": "5f2f3820-f663-4e2a-a987-06b6efa4d4e8",
   "metadata": {},
   "outputs": [],
   "source": [
    "import torch"
   ]
  },
  {
   "cell_type": "code",
   "execution_count": null,
   "id": "05557171-5e04-4461-8409-4fc7e36d6e51",
   "metadata": {},
   "outputs": [],
   "source": [
    "from datetime import datetime, timedelta"
   ]
  },
  {
   "cell_type": "code",
   "execution_count": null,
   "id": "3780ece4-d9da-440f-8331-9fd270b7d136",
   "metadata": {},
   "outputs": [],
   "source": [
    "import matplotlib.pyplot as plt"
   ]
  },
  {
   "cell_type": "code",
   "execution_count": null,
   "id": "a8c9927b-edfc-4eaf-b5c4-4bd07d580fe9",
   "metadata": {},
   "outputs": [],
   "source": [
    "import geopandas as gpd"
   ]
  },
  {
   "cell_type": "code",
   "execution_count": null,
   "id": "f8fcfd2a-3777-41d3-a759-7c01a27f4f40",
   "metadata": {},
   "outputs": [],
   "source": [
    "gdf = gpd.read_file('./../data/oxsfg_steel.gpkg').set_index(\"uid\")"
   ]
  },
  {
   "cell_type": "code",
   "execution_count": null,
   "id": "914e2fe9-4b2e-4ae8-8396-e1c9106bbaa6",
   "metadata": {},
   "outputs": [],
   "source": [
    "root = os.path.abspath(os.path.join(os.getcwd(),'..'))"
   ]
  },
  {
   "cell_type": "code",
   "execution_count": null,
   "id": "898f083a-fabb-47a0-8bdf-ed667611b95f",
   "metadata": {},
   "outputs": [],
   "source": [
    "results = pickle.load(open(os.path.join(root,'tmp','predictions.pkl'),'rb'))"
   ]
  },
  {
   "cell_type": "code",
   "execution_count": null,
   "id": "9ae57b81-6ffe-4b41-9074-5eddd3949aa3",
   "metadata": {},
   "outputs": [],
   "source": [
    "results[0][0]['y_hat'].shape"
   ]
  },
  {
   "cell_type": "code",
   "execution_count": null,
   "id": "0967fa9a-3948-4f27-83bd-cab9cb58c1e7",
   "metadata": {},
   "outputs": [],
   "source": [
    "tensors = {'y_hat':[],'y':[],'dates':[]}\n",
    "for t in results[0]:\n",
    "    if len(t['y_hat'].squeeze().shape)==2:\n",
    "        tensors['y_hat'].append(t['y_hat'].squeeze())\n",
    "    elif len(t['y_hat'].squeeze().shape)<2:\n",
    "        tensors['y_hat'].append(t['y_hat'].squeeze().unsqueeze(0))\n",
    "        \n",
    "    if len(t['y'].squeeze().shape)==2:\n",
    "        tensors['y'].append(t['y'].squeeze())\n",
    "    elif len(t['y'].squeeze().shape)<2:\n",
    "        tensors['y'].append(t['y'].squeeze().unsqueeze(0))\n",
    "        \n",
    "    if len(t['dates'].squeeze().shape)==2:\n",
    "        tensors['dates'].append(t['dates'].squeeze().numpy())\n",
    "    elif len(t['dates'].squeeze().shape)<2:\n",
    "        tensors['dates'].append(t['dates'].squeeze().unsqueeze(0).numpy())"
   ]
  },
  {
   "cell_type": "code",
   "execution_count": null,
   "id": "282af4f2-2c67-4561-96ff-76007757c09a",
   "metadata": {},
   "outputs": [],
   "source": [
    "all_dates = np.concatenate(tensors['dates'])"
   ]
  },
  {
   "cell_type": "code",
   "execution_count": null,
   "id": "b1f2f7cc-30a4-4928-a26a-2db0ef7bdd64",
   "metadata": {},
   "outputs": [],
   "source": [
    "y_hat = torch.cat(tensors['y_hat'])\n",
    "y = torch.cat(tensors['y'])"
   ]
  },
  {
   "cell_type": "code",
   "execution_count": null,
   "id": "305c7ada-6961-45a9-800d-56fde2394e92",
   "metadata": {},
   "outputs": [],
   "source": [
    "plt.hist(y_hat.numpy().flatten())"
   ]
  },
  {
   "cell_type": "code",
   "execution_count": null,
   "id": "6305f2f5-1d2c-4775-a8e8-c6c67e269131",
   "metadata": {},
   "outputs": [],
   "source": [
    "plt.imshow(y.numpy())"
   ]
  },
  {
   "cell_type": "code",
   "execution_count": null,
   "id": "7a7f1c86-210b-4f98-8a63-0096334ec484",
   "metadata": {},
   "outputs": [],
   "source": [
    "y.shape"
   ]
  },
  {
   "cell_type": "code",
   "execution_count": null,
   "id": "64615d78-1571-41b2-9538-acf33ef81c8b",
   "metadata": {},
   "outputs": [],
   "source": [
    "(y[:,0]<1).sum()"
   ]
  },
  {
   "cell_type": "code",
   "execution_count": null,
   "id": "e779923e-4b83-469d-844a-26e141efb066",
   "metadata": {},
   "outputs": [],
   "source": [
    "y_hat[y[:,0]==1,0].mean() # => 1 -> there is a steel plant at t=0"
   ]
  },
  {
   "cell_type": "code",
   "execution_count": null,
   "id": "b049d7a6-372d-48b5-8026-9a0ddaea7207",
   "metadata": {},
   "outputs": [],
   "source": [
    "y_hat[y[:,0]<1,0].mean() # => 0 -> there is no steel plant at t=0"
   ]
  },
  {
   "cell_type": "code",
   "execution_count": null,
   "id": "e36ae24a-b9b1-4869-92a6-4bb04ea7cf73",
   "metadata": {},
   "outputs": [],
   "source": [
    "y.shape"
   ]
  },
  {
   "cell_type": "code",
   "execution_count": null,
   "id": "4f59bdf4-a7c7-44ed-8f7c-5ffef213f89e",
   "metadata": {},
   "outputs": [],
   "source": [
    "y_hat.shape"
   ]
  },
  {
   "cell_type": "code",
   "execution_count": null,
   "id": "56a2de6f-87ee-4ab9-96ee-1c2cf44ca262",
   "metadata": {},
   "outputs": [],
   "source": [
    "best_cuts = [(c,((y_hat>c)==y).sum().numpy()) for c in np.arange(0,1,0.01)]"
   ]
  },
  {
   "cell_type": "code",
   "execution_count": null,
   "id": "58b887c8-f55f-43ed-b26e-f220d569e40d",
   "metadata": {},
   "outputs": [],
   "source": [
    "sorted(best_cuts, key=lambda k: k[1], reverse=True)[0]"
   ]
  },
  {
   "cell_type": "code",
   "execution_count": null,
   "id": "44106b52-eb64-4e29-9a2e-f2508406247d",
   "metadata": {},
   "outputs": [],
   "source": [
    "import pandas as pd"
   ]
  },
  {
   "cell_type": "code",
   "execution_count": null,
   "id": "0ce13e0c-8c3c-43f5-8843-cb108e4460fa",
   "metadata": {},
   "outputs": [],
   "source": [
    "true_idxs = [(i,j) for i,j in zip(*np.where((y_hat.numpy()>0.59)))]"
   ]
  },
  {
   "cell_type": "code",
   "execution_count": null,
   "id": "7f6c3f62-7185-402c-9b11-1ea0c52b47c5",
   "metadata": {},
   "outputs": [],
   "source": [
    "df = pd.DataFrame(true_idxs, columns=['row','col'])"
   ]
  },
  {
   "cell_type": "code",
   "execution_count": null,
   "id": "347e6539-d0b9-4782-8c43-02c1393f513e",
   "metadata": {},
   "outputs": [],
   "source": [
    "first_true = df.groupby('row').nth(0)"
   ]
  },
  {
   "cell_type": "code",
   "execution_count": null,
   "id": "6cf12a7e-56b6-4d34-a761-87d0a5d084b5",
   "metadata": {},
   "outputs": [],
   "source": [
    "((y_hat>)==y).sum()"
   ]
  },
  {
   "cell_type": "code",
   "execution_count": null,
   "id": "ffc1e828-7829-4286-8345-5943a9ad8d18",
   "metadata": {},
   "outputs": [],
   "source": [
    "y.shape"
   ]
  },
  {
   "cell_type": "code",
   "execution_count": null,
   "id": "9a1affe0-063f-412b-b043-ac450642874e",
   "metadata": {},
   "outputs": [],
   "source": [
    "4804/57/100"
   ]
  },
  {
   "cell_type": "code",
   "execution_count": null,
   "id": "7485a630-effd-428f-9748-425104520c15",
   "metadata": {},
   "outputs": [],
   "source": [
    "import matplotlib.pyplot as plt"
   ]
  },
  {
   "cell_type": "code",
   "execution_count": null,
   "id": "2ec212bd-c933-411e-a4ae-a156760ac3ca",
   "metadata": {},
   "outputs": [],
   "source": [
    "from matplotlib import cm"
   ]
  },
  {
   "cell_type": "code",
   "execution_count": null,
   "id": "7cbe2d64-7df0-4e9a-a1b1-dce3ac58824d",
   "metadata": {},
   "outputs": [],
   "source": [
    "cmap = cm.viridis"
   ]
  },
  {
   "cell_type": "code",
   "execution_count": null,
   "id": "14dffd6f-338d-4c32-8e40-9588b3834894",
   "metadata": {},
   "outputs": [],
   "source": [
    "y_hat_vis = cmap(y_hat.numpy())[:,:,:3]"
   ]
  },
  {
   "cell_type": "code",
   "execution_count": null,
   "id": "b30f3e24-7747-4273-9541-6823c09a6bfd",
   "metadata": {},
   "outputs": [],
   "source": [
    "y_vis = y.numpy()"
   ]
  },
  {
   "cell_type": "code",
   "execution_count": null,
   "id": "f248326f-f4a4-4b5d-b293-a7a2ba2eebd8",
   "metadata": {},
   "outputs": [],
   "source": [
    "import numpy as np"
   ]
  },
  {
   "cell_type": "code",
   "execution_count": null,
   "id": "91aa8648-d38e-4310-a610-2df1961174e2",
   "metadata": {},
   "outputs": [],
   "source": [
    "start_dates = np.abs(y_vis - np.roll(y_vis, 1, axis=1))"
   ]
  },
  {
   "cell_type": "code",
   "execution_count": null,
   "id": "043d13c7-8203-4871-989c-d807401ad28d",
   "metadata": {},
   "outputs": [],
   "source": [
    "y_hat_vis[np.where(start_dates)] = np.array([1.,0.,0.])"
   ]
  },
  {
   "cell_type": "code",
   "execution_count": null,
   "id": "a61f2614-e2b0-4978-8997-635995f9d415",
   "metadata": {},
   "outputs": [],
   "source": [
    "from matplotlib.lines import Line2D"
   ]
  },
  {
   "cell_type": "code",
   "execution_count": null,
   "id": "0a426817-b218-4454-b088-0045455b5110",
   "metadata": {},
   "outputs": [],
   "source": [
    "fig, axs = plt.subplots(1,2,figsize=(12,6))\n",
    "axs[0].imshow(y_hat_vis)\n",
    "axs[1].imshow(y_vis)\n",
    "axs[0].set_title('Prediction')\n",
    "axs[1].set_title('Label')\n",
    "axs[0].set_ylabel('Sample')\n",
    "axs[0].set_xlabel('Date')\n",
    "axs[1].set_xlabel('Date')\n",
    "custom_lines = [Line2D([0], [0], color=cmap(0.), lw=4),\n",
    "                Line2D([0], [0], color=cmap(1.), lw=4),\n",
    "               Line2D([0], [0], color='#FF0000', lw=4)]\n",
    "fig.legend(custom_lines, ['No Plant', 'Plant', 'Actual Startdate'], ncol=3, loc='lower center')\n",
    "fig.savefig('./sobel_seq_testset.png')"
   ]
  },
  {
   "cell_type": "code",
   "execution_count": null,
   "id": "0fa6c69b-77c5-48dd-918c-3cd01b37434e",
   "metadata": {},
   "outputs": [],
   "source": [
    "plt.imshow(y_hat.numpy(), vmax=1, vmin=0)"
   ]
  },
  {
   "cell_type": "code",
   "execution_count": null,
   "id": "2bc3e7c7-7104-4aae-b91b-bd38c5b3acca",
   "metadata": {},
   "outputs": [],
   "source": [
    "plt.imshow(y.numpy())"
   ]
  },
  {
   "cell_type": "code",
   "execution_count": null,
   "id": "d4c08ac3-b93c-44fa-851b-92d77b6f778d",
   "metadata": {
    "tags": []
   },
   "outputs": [],
   "source": [
    "records = pickle.load(open('./../tmp/records.pkl','rb'))"
   ]
  },
  {
   "cell_type": "code",
   "execution_count": null,
   "id": "738eca20-f05e-4109-a4a7-6d1ac94bd8a2",
   "metadata": {},
   "outputs": [],
   "source": [
    "len(records)"
   ]
  },
  {
   "cell_type": "code",
   "execution_count": null,
   "id": "07e37383-84ba-4e32-a794-ba481a69c161",
   "metadata": {},
   "outputs": [],
   "source": [
    "indices = pickle.load(open('./../tmp/indices.pkl','rb'))"
   ]
  },
  {
   "cell_type": "code",
   "execution_count": null,
   "id": "29dd7432-5eaa-45db-a66e-6fb9c34e7f42",
   "metadata": {},
   "outputs": [],
   "source": [
    "len(records[0]['revisits'])"
   ]
  },
  {
   "cell_type": "code",
   "execution_count": null,
   "id": "1304477c-cdf9-4fc2-815f-47aa56cfeab5",
   "metadata": {},
   "outputs": [],
   "source": [
    "actual_dates = [int(gdf.loc[records[idx]['site'],'year']) for idx in indices['val']]"
   ]
  },
  {
   "cell_type": "code",
   "execution_count": null,
   "id": "9fc69235-94fc-412c-a52a-f9894d8583aa",
   "metadata": {},
   "outputs": [],
   "source": [
    "actual_dates = [datetime(ii,1,1) for ii in actual_dates]"
   ]
  },
  {
   "cell_type": "code",
   "execution_count": null,
   "id": "5886da5d-0d24-4e03-a3cf-a6f7c0fe5531",
   "metadata": {},
   "outputs": [],
   "source": [
    "len(indices['val'])"
   ]
  },
  {
   "cell_type": "code",
   "execution_count": null,
   "id": "6feee102-c3b3-4097-9e5d-ca30a3bb48be",
   "metadata": {
    "tags": []
   },
   "outputs": [],
   "source": [
    "indices['val'][0]"
   ]
  },
  {
   "cell_type": "code",
   "execution_count": null,
   "id": "ef617c6a-4adc-4acd-a818-21e7cfdc6ab3",
   "metadata": {},
   "outputs": [],
   "source": [
    "est_start_dates = [all_dates[row, col] for row, col in df.groupby('row').nth(0)['col'].items()]"
   ]
  },
  {
   "cell_type": "code",
   "execution_count": null,
   "id": "5f4704fa-6a57-4c38-855e-fffca311a039",
   "metadata": {},
   "outputs": [],
   "source": [
    "est_start_dates = [datetime(1970,1,1)+timedelta(days=int(ii)) for ii in est_start_dates]"
   ]
  },
  {
   "cell_type": "code",
   "execution_count": null,
   "id": "3e7eb8b6-d7f9-4db2-b36c-d6c26955d226",
   "metadata": {},
   "outputs": [],
   "source": [
    "len(actual_dates)"
   ]
  },
  {
   "cell_type": "code",
   "execution_count": null,
   "id": "f66918ca-8517-4dd2-9229-3b1fa218e71f",
   "metadata": {},
   "outputs": [],
   "source": [
    "len(est_start_dates)"
   ]
  },
  {
   "cell_type": "code",
   "execution_count": null,
   "id": "49a57100-d4d5-45f3-9ccc-089ee055c560",
   "metadata": {},
   "outputs": [],
   "source": [
    "df_compare = pd.DataFrame({'act':actual_dates,'est':est_start_dates})"
   ]
  },
  {
   "cell_type": "code",
   "execution_count": null,
   "id": "265171bc-0fe1-4930-bb73-d275b6ddecb0",
   "metadata": {},
   "outputs": [],
   "source": [
    "df_compare['act'] = df_compare['act'].apply(lambda el: max(el, datetime(1984,1,1)))"
   ]
  },
  {
   "cell_type": "code",
   "execution_count": null,
   "id": "6e2344fd-0268-4d0c-9d82-5a4455891de5",
   "metadata": {},
   "outputs": [],
   "source": [
    "df_compare['diff'] = np.abs(df_compare['est'] - df_compare['act'])"
   ]
  },
  {
   "cell_type": "code",
   "execution_count": null,
   "id": "5ae8cc3e-10f7-4b67-b9c1-f85d91333c62",
   "metadata": {},
   "outputs": [],
   "source": [
    "fig, ax = plt.subplots(1,1,figsize=(6,6))\n",
    "(df_compare.loc[df_compare['act']>datetime(1981,1,1),'diff'].dt.days/365).hist(ax=ax)\n",
    "ax.set_xlabel('Years Difference')\n",
    "ax.set_ylabel('Freq')\n",
    "fig.savefig('./year_difference.png')"
   ]
  },
  {
   "cell_type": "code",
   "execution_count": null,
   "id": "c0161f55-37a0-415b-8485-7fd69ef0e4a2",
   "metadata": {},
   "outputs": [],
   "source": [
    "df_compare['diff'].mean()"
   ]
  },
  {
   "cell_type": "code",
   "execution_count": null,
   "id": "5952b29d-9b53-408a-bc60-74660d1d3fe6",
   "metadata": {},
   "outputs": [],
   "source": [
    "df_compare['diff'].dt.days.hist()"
   ]
  },
  {
   "cell_type": "code",
   "execution_count": null,
   "id": "5ec73189-7d04-4d71-860e-bf71abeae625",
   "metadata": {},
   "outputs": [],
   "source": [
    "df_compare.loc[df_compare['act']<datetime(1990,1,1),:].shape"
   ]
  },
  {
   "cell_type": "code",
   "execution_count": null,
   "id": "42430208-bf7b-4559-8b81-0bf85e500b16",
   "metadata": {},
   "outputs": [],
   "source": [
    "df_compare.loc[(df_compare['act']<datetime(1990,1,1))&(df_compare['est']<datetime(1990,1,1)),:].shape"
   ]
  },
  {
   "cell_type": "code",
   "execution_count": null,
   "id": "97587156-c2e4-40d2-8fad-cb20e6c0d4f8",
   "metadata": {},
   "outputs": [],
   "source": [
    "df_compare['act'] = np.min(df_compare['act'], datetime(1984,1,1))"
   ]
  },
  {
   "cell_type": "code",
   "execution_count": null,
   "id": "7dc61a6e-aa43-48cf-87bc-44e2ca814952",
   "metadata": {},
   "outputs": [],
   "source": [
    "df"
   ]
  },
  {
   "cell_type": "code",
   "execution_count": null,
   "id": "03af7855-31d1-4ba6-9dad-7611bfb1e14f",
   "metadata": {},
   "outputs": [],
   "source": [
    "est_start_dates"
   ]
  },
  {
   "cell_type": "code",
   "execution_count": null,
   "id": "bdab61bb-083f-4329-8d7e-b77c31676ef7",
   "metadata": {},
   "outputs": [],
   "source": []
  }
 ],
 "metadata": {
  "kernelspec": {
   "display_name": "Python 3 (ipykernel)",
   "language": "python",
   "name": "python3"
  },
  "language_info": {
   "codemirror_mode": {
    "name": "ipython",
    "version": 3
   },
   "file_extension": ".py",
   "mimetype": "text/x-python",
   "name": "python",
   "nbconvert_exporter": "python",
   "pygments_lexer": "ipython3",
   "version": "3.8.13"
  }
 },
 "nbformat": 4,
 "nbformat_minor": 5
}
