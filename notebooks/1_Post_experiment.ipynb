{
 "cells": [
  {
   "cell_type": "code",
   "execution_count": 83,
   "id": "7e2e9f1c-2902-45f7-a625-6776d72ee55f",
   "metadata": {},
   "outputs": [],
   "source": [
    "import pickle, os"
   ]
  },
  {
   "cell_type": "code",
   "execution_count": 84,
   "id": "5f2f3820-f663-4e2a-a987-06b6efa4d4e8",
   "metadata": {},
   "outputs": [],
   "source": [
    "import torch"
   ]
  },
  {
   "cell_type": "code",
   "execution_count": 85,
   "id": "3780ece4-d9da-440f-8331-9fd270b7d136",
   "metadata": {},
   "outputs": [],
   "source": [
    "import matplotlib.pyplot as plt"
   ]
  },
  {
   "cell_type": "code",
   "execution_count": 86,
   "id": "914e2fe9-4b2e-4ae8-8396-e1c9106bbaa6",
   "metadata": {},
   "outputs": [],
   "source": [
    "root = os.path.abspath(os.path.join(os.getcwd(),'..'))"
   ]
  },
  {
   "cell_type": "code",
   "execution_count": 87,
   "id": "898f083a-fabb-47a0-8bdf-ed667611b95f",
   "metadata": {},
   "outputs": [],
   "source": [
    "results = pickle.load(open(os.path.join(root,'tmp','predictions.pkl'),'rb'))"
   ]
  },
  {
   "cell_type": "code",
   "execution_count": 88,
   "id": "9ae57b81-6ffe-4b41-9074-5eddd3949aa3",
   "metadata": {},
   "outputs": [
    {
     "data": {
      "text/plain": [
       "torch.Size([4, 150, 1])"
      ]
     },
     "execution_count": 88,
     "metadata": {},
     "output_type": "execute_result"
    }
   ],
   "source": [
    "results[0][0]['y_hat'].shape"
   ]
  },
  {
   "cell_type": "code",
   "execution_count": 89,
   "id": "0967fa9a-3948-4f27-83bd-cab9cb58c1e7",
   "metadata": {},
   "outputs": [],
   "source": [
    "tensors = {'y_hat':[],'y':[]}\n",
    "for t in results[0]:\n",
    "    if len(t['y_hat'].squeeze().shape)==2:\n",
    "        tensors['y_hat'].append(t['y_hat'].squeeze())\n",
    "    elif len(t['y_hat'].squeeze().shape)<2:\n",
    "        tensors['y_hat'].append(t['y_hat'].squeeze().unsqueeze(0))\n",
    "        \n",
    "    if len(t['y'].squeeze().shape)==2:\n",
    "        tensors['y'].append(t['y'].squeeze())\n",
    "    elif len(t['y'].squeeze().shape)<2:\n",
    "        tensors['y'].append(t['y'].squeeze().unsqueeze(0))"
   ]
  },
  {
   "cell_type": "code",
   "execution_count": 90,
   "id": "b1f2f7cc-30a4-4928-a26a-2db0ef7bdd64",
   "metadata": {},
   "outputs": [],
   "source": [
    "y_hat = torch.cat(tensors['y_hat'])\n",
    "y = torch.cat(tensors['y'])"
   ]
  },
  {
   "cell_type": "code",
   "execution_count": 91,
   "id": "305c7ada-6961-45a9-800d-56fde2394e92",
   "metadata": {},
   "outputs": [
    {
     "data": {
      "text/plain": [
       "(array([   0.,    0.,    0.,    0.,    0., 8250.,    0.,    0.,    0.,\n",
       "           0.]),\n",
       " array([0.34348214, 0.44348213, 0.5434821 , 0.64348215, 0.7434821 ,\n",
       "        0.84348214, 0.94348216, 1.0434822 , 1.1434821 , 1.2434821 ,\n",
       "        1.3434821 ], dtype=float32),\n",
       " <BarContainer object of 10 artists>)"
      ]
     },
     "execution_count": 91,
     "metadata": {},
     "output_type": "execute_result"
    },
    {
     "data": {
      "image/png": "[encoded data removed]",
      "text/plain": [
       "<Figure size 432x288 with 1 Axes>"
      ]
     },
     "metadata": {
      "needs_background": "light"
     },
     "output_type": "display_data"
    }
   ],
   "source": [
    "plt.hist(y_hat.numpy().flatten())"
   ]
  },
  {
   "cell_type": "code",
   "execution_count": 92,
   "id": "7a7f1c86-210b-4f98-8a63-0096334ec484",
   "metadata": {},
   "outputs": [
    {
     "data": {
      "text/plain": [
       "torch.Size([55, 150])"
      ]
     },
     "execution_count": 92,
     "metadata": {},
     "output_type": "execute_result"
    }
   ],
   "source": [
    "y.shape"
   ]
  },
  {
   "cell_type": "code",
   "execution_count": 93,
   "id": "64615d78-1571-41b2-9538-acf33ef81c8b",
   "metadata": {},
   "outputs": [
    {
     "data": {
      "text/plain": [
       "tensor(27)"
      ]
     },
     "execution_count": 93,
     "metadata": {},
     "output_type": "execute_result"
    }
   ],
   "source": [
    "(y[:,0]<1).sum()"
   ]
  },
  {
   "cell_type": "code",
   "execution_count": 94,
   "id": "e779923e-4b83-469d-844a-26e141efb066",
   "metadata": {},
   "outputs": [
    {
     "data": {
      "text/plain": [
       "tensor(0.8435)"
      ]
     },
     "execution_count": 94,
     "metadata": {},
     "output_type": "execute_result"
    }
   ],
   "source": [
    "y_hat[y[:,0]==1,0].mean() # => 1 -> there is a steel plant at t=0"
   ]
  },
  {
   "cell_type": "code",
   "execution_count": 95,
   "id": "b049d7a6-372d-48b5-8026-9a0ddaea7207",
   "metadata": {},
   "outputs": [
    {
     "data": {
      "text/plain": [
       "tensor(0.8435)"
      ]
     },
     "execution_count": 95,
     "metadata": {},
     "output_type": "execute_result"
    }
   ],
   "source": [
    "y_hat[y[:,0]<1,0].mean() # => 0 -> there is no steel plant at t=0"
   ]
  },
  {
   "cell_type": "code",
   "execution_count": 81,
   "id": "e36ae24a-b9b1-4869-92a6-4bb04ea7cf73",
   "metadata": {},
   "outputs": [
    {
     "data": {
      "text/plain": [
       "tensor([[0., 0., 0.,  ..., 1., 1., 1.],\n",
       "        [1., 1., 1.,  ..., 1., 1., 1.],\n",
       "        [1., 1., 1.,  ..., 1., 1., 1.],\n",
       "        ...,\n",
       "        [1., 1., 1.,  ..., 1., 1., 1.],\n",
       "        [0., 0., 0.,  ..., 1., 1., 1.],\n",
       "        [1., 1., 1.,  ..., 1., 1., 1.]])"
      ]
     },
     "execution_count": 81,
     "metadata": {},
     "output_type": "execute_result"
    }
   ],
   "source": [
    "y"
   ]
  },
  {
   "cell_type": "code",
   "execution_count": 82,
   "id": "4f59bdf4-a7c7-44ed-8f7c-5ffef213f89e",
   "metadata": {},
   "outputs": [
    {
     "data": {
      "text/plain": [
       "tensor([[0.9035, 0.9035, 0.9035,  ..., 0.9035, 0.9035, 0.9035],\n",
       "        [0.9035, 0.9035, 0.9035,  ..., 0.9035, 0.9035, 0.9035],\n",
       "        [0.9035, 0.9035, 0.9035,  ..., 0.9035, 0.9035, 0.9035],\n",
       "        ...,\n",
       "        [0.9035, 0.9035, 0.9035,  ..., 0.9035, 0.9035, 0.9035],\n",
       "        [0.9035, 0.9035, 0.9035,  ..., 0.9035, 0.9035, 0.9035],\n",
       "        [0.9035, 0.9035, 0.9035,  ..., 0.9035, 0.9035, 0.9035]])"
      ]
     },
     "execution_count": 82,
     "metadata": {},
     "output_type": "execute_result"
    }
   ],
   "source": [
    "y_hat"
   ]
  },
  {
   "cell_type": "code",
   "execution_count": null,
   "id": "6cf12a7e-56b6-4d34-a761-87d0a5d084b5",
   "metadata": {},
   "outputs": [],
   "source": []
  }
 ],
 "metadata": {
  "kernelspec": {
   "display_name": "Python 3 (ipykernel)",
   "language": "python",
   "name": "python3"
  },
  "language_info": {
   "codemirror_mode": {
    "name": "ipython",
    "version": 3
   },
   "file_extension": ".py",
   "mimetype": "text/x-python",
   "name": "python",
   "nbconvert_exporter": "python",
   "pygments_lexer": "ipython3",
   "version": "3.8.13"
  }
 },
 "nbformat": 4,
 "nbformat_minor": 5
}
