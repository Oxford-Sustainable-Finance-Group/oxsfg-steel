{
 "cells": [
  {
   "cell_type": "code",
   "execution_count": null,
   "id": "29f68287-0bdf-4956-9fd6-59640a69fcb0",
   "metadata": {},
   "outputs": [],
   "source": [
    "import os\n",
    "import pandas as pd\n",
    "from shapely import geometry\n",
    "import geopandas as gpd\n",
    "from oxsfg.steel.utils import gee_worker, basemap_worker\n",
    "import matplotlib.pyplot as plt\n",
    "%load_ext autoreload\n",
    "%autoreload 2"
   ]
  },
  {
   "cell_type": "code",
   "execution_count": null,
   "id": "7a19cece-19ec-44f0-bb1b-32fe039223a2",
   "metadata": {},
   "outputs": [],
   "source": [
    "root = os.path.abspath(os.path.join(os.getcwd(),'..'))"
   ]
  },
  {
   "cell_type": "markdown",
   "id": "4fcbb7d4-af55-434f-aad1-de8a021cae6c",
   "metadata": {},
   "source": [
    "### test gee_worker"
   ]
  },
  {
   "cell_type": "code",
   "execution_count": null,
   "id": "e39e9e6c-3293-4272-8ea3-3473a109fb0c",
   "metadata": {},
   "outputs": [],
   "source": [
    "data = gee_worker(\n",
    "    pt_wgs84 = geometry.Point(-1.2617, 51.7522),\n",
    "    resolution = 10,\n",
    "    patch_size = 256,\n",
    "    start_date_str = '2017-05-01', \n",
    "    end_date_str = '2017-09-01', \n",
    "    collection_id = 'COPERNICUS/S2_SR', \n",
    "    bands = ['B4','B3','B2'],\n",
    "    credentials = os.path.join(root,'ox-sfg-ikea-lk.json'),\n",
    "    cloud_coverage_filter = None,\n",
    "    sort_by = 'cloud_cover',\n",
    "    mosaic = False,\n",
    ")"
   ]
  },
  {
   "cell_type": "code",
   "execution_count": null,
   "id": "ce37b160-df17-4ed2-950a-1de4da62a7a6",
   "metadata": {},
   "outputs": [],
   "source": [
    "plt.imshow((data/3000).clip(0,1))"
   ]
  },
  {
   "cell_type": "markdown",
   "id": "4ad3175b-0a25-42f3-88a6-30e76f9d42f0",
   "metadata": {},
   "source": [
    "### test basemap"
   ]
  },
  {
   "cell_type": "code",
   "execution_count": null,
   "id": "8d026faa-038c-4398-b61d-9ed27083dfad",
   "metadata": {},
   "outputs": [],
   "source": [
    "data_bm = basemap_worker(\n",
    "    pt_wgs84 = geometry.Point(-1.2617, 51.7522),\n",
    "    zoom_level=16,\n",
    "    api_key_path = os.path.join(root,'maps_api_key.txt'),\n",
    ")"
   ]
  },
  {
   "cell_type": "code",
   "execution_count": null,
   "id": "3ea3932a-36dc-4bc8-b753-6273e2621f8d",
   "metadata": {},
   "outputs": [],
   "source": [
    "plt.imshow((data_bm/255).clip(0,1))"
   ]
  }
 ],
 "metadata": {
  "kernelspec": {
   "display_name": "Python 3 (ipykernel)",
   "language": "python",
   "name": "python3"
  },
  "language_info": {
   "codemirror_mode": {
    "name": "ipython",
    "version": 3
   },
   "file_extension": ".py",
   "mimetype": "text/x-python",
   "name": "python",
   "nbconvert_exporter": "python",
   "pygments_lexer": "ipython3",
   "version": "3.8.13"
  }
 },
 "nbformat": 4,
 "nbformat_minor": 5
}
