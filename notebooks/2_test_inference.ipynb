{
 "cells": [
  {
   "cell_type": "code",
   "execution_count": 2,
   "id": "75c78a0c-b4cf-49fa-a416-f8fa91dd29f4",
   "metadata": {},
   "outputs": [],
   "source": [
    "from oxsfg.steel.datamodules import SequenceDataModule\n",
    "from oxsfg.steel.modules import GRUModule"
   ]
  },
  {
   "cell_type": "code",
   "execution_count": 6,
   "id": "7f43a04d-0ba3-43ef-a034-0d957e1d3fd8",
   "metadata": {},
   "outputs": [],
   "source": [
    "import os, yaml"
   ]
  },
  {
   "cell_type": "code",
   "execution_count": 16,
   "id": "f49bc54a-4b5a-4022-8d2b-f6ed14238050",
   "metadata": {},
   "outputs": [],
   "source": [
    "from torchvision.models import efficientnet_b3, resnet50, ResNet50_Weights"
   ]
  },
  {
   "cell_type": "code",
   "execution_count": null,
   "id": "66539b1c-d664-4476-91f1-12d2e3af16a3",
   "metadata": {},
   "outputs": [],
   "source": [
    "\n",
    "from torchinfo import summary\n",
    "\n",
    "\n",
    "class GRUEncoder(nn.Module):\n",
    "    def __init__(self, input_size, hidden_size):\n",
    "        super().__init__()\n",
    "\n",
    "        #encoder = efficientnet_b3(pretrained=True)\n",
    "        encoder = resnet50(weights=ResNet50_Weights.IMAGENET1K_V2)\n",
    "        \n",
    "        self.encoder = torch.nn.Sequential(*(list(encoder.children())[:-2]))"
   ]
  },
  {
   "cell_type": "code",
   "execution_count": 4,
   "id": "a3772b0c-b905-4166-a652-1c6f6c2cda21",
   "metadata": {},
   "outputs": [],
   "source": [
    "root = os.path.abspath(os.path.join(os.getcwd(),'..'))"
   ]
  },
  {
   "cell_type": "code",
   "execution_count": 7,
   "id": "39cf65ec-99c0-4991-a5d6-05a3769044d5",
   "metadata": {},
   "outputs": [],
   "source": [
    "cfg = yaml.load(open(os.path.join(root,'conf','main_sequence.yaml'),'r'), Loader=yaml.SafeLoader)"
   ]
  },
  {
   "cell_type": "code",
   "execution_count": 8,
   "id": "c42a94d8-8179-42fb-9845-a8ff97b2246b",
   "metadata": {},
   "outputs": [
    {
     "data": {
      "text/plain": [
       "{'dataset_parameters': {'gdf_path': '/home/lucas/oxsfg-steel/data/oxsfg_steel.gpkg',\n",
       "  'data_root': '/home/lucas/oxsfg-steel/data/raw_sequences',\n",
       "  'target_column': 'year',\n",
       "  'pretrain_norm': True,\n",
       "  'sequence_len': 150,\n",
       "  'resize_dim': [256, 256]},\n",
       " 'training_parameters': {'batch_size': 4,\n",
       "  'val_split': 0.2,\n",
       "  'test_split': 0.0,\n",
       "  'num_workers': 6,\n",
       "  'max_epochs': 40,\n",
       "  'gpus': 1},\n",
       " 'model_parameters': {'input_size': 256, 'hidden_size': 12}}"
      ]
     },
     "execution_count": 8,
     "metadata": {},
     "output_type": "execute_result"
    }
   ],
   "source": [
    "cfg"
   ]
  },
  {
   "cell_type": "code",
   "execution_count": 9,
   "id": "9afaf49b-50f3-4adf-a97a-33c53970e583",
   "metadata": {},
   "outputs": [],
   "source": [
    "dm = SequenceDataModule(cfg['dataset_parameters'], cfg['training_parameters'])"
   ]
  },
  {
   "cell_type": "code",
   "execution_count": 10,
   "id": "b2d8e4cc-40c0-4e4a-9658-9da6def97309",
   "metadata": {},
   "outputs": [
    {
     "name": "stdout",
     "output_type": "stream",
     "text": [
      "RECORDS PATH /home/lucas/oxsfg-steel/data/raw_sequences/*/*.npz\n",
      "TOTAL RECORDS 288\n"
     ]
    }
   ],
   "source": [
    "dm.setup()"
   ]
  },
  {
   "cell_type": "code",
   "execution_count": 11,
   "id": "a5abee12-2b41-4a39-b62a-5bf66ad0a0c8",
   "metadata": {},
   "outputs": [],
   "source": [
    "train_dl = dm.train_dataloader()"
   ]
  },
  {
   "cell_type": "code",
   "execution_count": 15,
   "id": "5ce94704-4c9f-4fc2-b1b5-1ff0e60e7f66",
   "metadata": {},
   "outputs": [],
   "source": [
    "X,Y = next(iter(train_dl))"
   ]
  },
  {
   "cell_type": "code",
   "execution_count": 17,
   "id": "372e6354-f6b2-4e9a-a426-015852e770d9",
   "metadata": {},
   "outputs": [],
   "source": [
    "encoder = resnet50(weights=ResNet50_Weights.IMAGENET1K_V2)"
   ]
  }
 ],
 "metadata": {
  "kernelspec": {
   "display_name": "Python 3 (ipykernel)",
   "language": "python",
   "name": "python3"
  },
  "language_info": {
   "codemirror_mode": {
    "name": "ipython",
    "version": 3
   },
   "file_extension": ".py",
   "mimetype": "text/x-python",
   "name": "python",
   "nbconvert_exporter": "python",
   "pygments_lexer": "ipython3",
   "version": "3.8.13"
  }
 },
 "nbformat": 4,
 "nbformat_minor": 5
}
