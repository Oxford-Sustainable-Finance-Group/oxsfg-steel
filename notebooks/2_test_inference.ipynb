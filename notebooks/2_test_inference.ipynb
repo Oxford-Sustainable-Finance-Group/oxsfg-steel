{
 "cells": [
  {
   "cell_type": "code",
   "execution_count": null,
   "id": "482e2d53-2a95-4db8-a603-5d4714047655",
   "metadata": {},
   "outputs": [],
   "source": [
    "import numpy as np"
   ]
  },
  {
   "cell_type": "code",
   "execution_count": null,
   "id": "75c78a0c-b4cf-49fa-a416-f8fa91dd29f4",
   "metadata": {},
   "outputs": [],
   "source": [
    "from oxsfg.steel.datamodules import SequenceDataModule\n",
    "from oxsfg.steel.modules import GRUModule\n",
    "from oxsfg.steel.modules.models.sobel_encoder import SobelFilter"
   ]
  },
  {
   "cell_type": "code",
   "execution_count": null,
   "id": "2d84d68a-9b91-469e-9fa7-d8112b1de5a0",
   "metadata": {},
   "outputs": [],
   "source": [
    "import matplotlib.pyplot as plt"
   ]
  },
  {
   "cell_type": "code",
   "execution_count": null,
   "id": "7f43a04d-0ba3-43ef-a034-0d957e1d3fd8",
   "metadata": {},
   "outputs": [],
   "source": [
    "import os, yaml"
   ]
  },
  {
   "cell_type": "code",
   "execution_count": null,
   "id": "b0db98d6-783c-4594-b63f-328a02e64f95",
   "metadata": {},
   "outputs": [],
   "source": [
    "import torch"
   ]
  },
  {
   "cell_type": "code",
   "execution_count": null,
   "id": "f49bc54a-4b5a-4022-8d2b-f6ed14238050",
   "metadata": {},
   "outputs": [],
   "source": [
    "from torchvision.models import efficientnet_b3, resnet50, ResNet50_Weights"
   ]
  },
  {
   "cell_type": "code",
   "execution_count": null,
   "id": "5526938b-5c24-42e1-a480-98ea1ad381f9",
   "metadata": {},
   "outputs": [],
   "source": [
    "import matplotlib.pyplot as plt"
   ]
  },
  {
   "cell_type": "code",
   "execution_count": null,
   "id": "a3772b0c-b905-4166-a652-1c6f6c2cda21",
   "metadata": {},
   "outputs": [],
   "source": [
    "root = os.path.abspath(os.path.join(os.getcwd(),'..'))"
   ]
  },
  {
   "cell_type": "code",
   "execution_count": null,
   "id": "39cf65ec-99c0-4991-a5d6-05a3769044d5",
   "metadata": {},
   "outputs": [],
   "source": [
    "cfg = yaml.load(open(os.path.join(root,'conf','main_sequence.yaml'),'r'), Loader=yaml.SafeLoader)"
   ]
  },
  {
   "cell_type": "code",
   "execution_count": null,
   "id": "6270acb7-5187-4baf-b521-1aeabb6910ef",
   "metadata": {},
   "outputs": [],
   "source": [
    "cfg['dataset_parameters']['sequence_len']=50"
   ]
  },
  {
   "cell_type": "code",
   "execution_count": null,
   "id": "9afaf49b-50f3-4adf-a97a-33c53970e583",
   "metadata": {},
   "outputs": [],
   "source": [
    "dm = SequenceDataModule(cfg['dataset_parameters'], cfg['training_parameters'])"
   ]
  },
  {
   "cell_type": "code",
   "execution_count": null,
   "id": "b2d8e4cc-40c0-4e4a-9658-9da6def97309",
   "metadata": {},
   "outputs": [],
   "source": [
    "dm.setup()"
   ]
  },
  {
   "cell_type": "code",
   "execution_count": null,
   "id": "a5abee12-2b41-4a39-b62a-5bf66ad0a0c8",
   "metadata": {},
   "outputs": [],
   "source": [
    "train_dl = dm.train_dataloader()"
   ]
  },
  {
   "cell_type": "code",
   "execution_count": null,
   "id": "1b8a4e4c-35ee-48db-89ed-80cf587c8b3b",
   "metadata": {
    "tags": []
   },
   "outputs": [],
   "source": [
    "train_dl.dataset.indices"
   ]
  },
  {
   "cell_type": "code",
   "execution_count": null,
   "id": "5ce94704-4c9f-4fc2-b1b5-1ff0e60e7f66",
   "metadata": {},
   "outputs": [],
   "source": [
    "X,Y = next(iter(train_dl))"
   ]
  },
  {
   "cell_type": "code",
   "execution_count": null,
   "id": "0e6758d0-f92b-4f7d-877d-834d07c98775",
   "metadata": {},
   "outputs": [],
   "source": [
    "encoder = SobelFilter()"
   ]
  },
  {
   "cell_type": "code",
   "execution_count": null,
   "id": "71a3a834-8238-4dc1-b564-9d5019481a99",
   "metadata": {},
   "outputs": [],
   "source": [
    "f = encoder(X[:,0,:,:,:])"
   ]
  },
  {
   "cell_type": "code",
   "execution_count": null,
   "id": "40e57437-392d-49b4-b095-5c08fdd8b708",
   "metadata": {},
   "outputs": [],
   "source": [
    "f.shape"
   ]
  },
  {
   "cell_type": "code",
   "execution_count": null,
   "id": "ee35eff0-efdb-45af-99a0-6d5b70a2ab51",
   "metadata": {},
   "outputs": [],
   "source": [
    "L_mean = torch.stack([\n",
    "            torch.mean(torch.mean(encoder(t), -1),-1) for t in torch.unbind(X, dim=1)], dim=1)"
   ]
  },
  {
   "cell_type": "code",
   "execution_count": null,
   "id": "af4af570-396f-488c-8030-f591709eb143",
   "metadata": {},
   "outputs": [],
   "source": [
    "L_mean.shape"
   ]
  },
  {
   "cell_type": "code",
   "execution_count": null,
   "id": "54529f4c-1b48-4070-b308-7a3cfc761b5f",
   "metadata": {},
   "outputs": [],
   "source": []
  },
  {
   "cell_type": "code",
   "execution_count": null,
   "id": "c6470be9-9d90-4888-8f42-a8fdc95431c1",
   "metadata": {},
   "outputs": [],
   "source": []
  },
  {
   "cell_type": "code",
   "execution_count": null,
   "id": "372e6354-f6b2-4e9a-a426-015852e770d9",
   "metadata": {},
   "outputs": [],
   "source": [
    "encoder = resnet50(weights=ResNet50_Weights.IMAGENET1K_V2)"
   ]
  },
  {
   "cell_type": "code",
   "execution_count": null,
   "id": "0e3fab6e-5aee-4cbf-b7a3-61df91088391",
   "metadata": {},
   "outputs": [],
   "source": [
    "encoder = torch.nn.Sequential(*(list(encoder.children())[:-2]))"
   ]
  },
  {
   "cell_type": "code",
   "execution_count": null,
   "id": "7564cbdc-5fd2-41a3-8205-e52237733a28",
   "metadata": {},
   "outputs": [],
   "source": [
    "X.min(), X.max() # (tensor(-2.1179), tensor(2.6400))"
   ]
  },
  {
   "cell_type": "code",
   "execution_count": null,
   "id": "11eccc5b-682b-4894-be03-6d0c8ca36a93",
   "metadata": {},
   "outputs": [],
   "source": [
    "f = encoder(X[:,0,:,:,:])"
   ]
  },
  {
   "cell_type": "code",
   "execution_count": null,
   "id": "d190f417-7a8d-439b-ab74-21e468fad474",
   "metadata": {},
   "outputs": [],
   "source": [
    "f2 = encoder(X[:,-1,:,:,:])"
   ]
  },
  {
   "cell_type": "code",
   "execution_count": null,
   "id": "e933dc51-94c0-45d5-9be2-fe7c62ab35a3",
   "metadata": {},
   "outputs": [],
   "source": [
    "f.shape, f2.shape"
   ]
  },
  {
   "cell_type": "code",
   "execution_count": null,
   "id": "eaac2ea7-0d2d-4a9a-af25-29679371543a",
   "metadata": {},
   "outputs": [],
   "source": [
    "f.max(), f2.max()"
   ]
  },
  {
   "cell_type": "code",
   "execution_count": null,
   "id": "2aa0b810-73c6-49f8-afdc-b516f56053b0",
   "metadata": {},
   "outputs": [],
   "source": [
    "f.min(), f2.min()"
   ]
  },
  {
   "cell_type": "code",
   "execution_count": null,
   "id": "8fe2589c-330e-4d5e-9da9-fa445db578b0",
   "metadata": {},
   "outputs": [],
   "source": [
    "f.std(), f2.std()"
   ]
  },
  {
   "cell_type": "code",
   "execution_count": null,
   "id": "b3e9b867-1b02-43a7-90dd-f79a55c88da7",
   "metadata": {},
   "outputs": [],
   "source": [
    "fm = f[0,:,:,:].mean(dim=(1,2))"
   ]
  },
  {
   "cell_type": "code",
   "execution_count": null,
   "id": "f3b8bae9-ada5-433c-8a58-47bb2c1d1659",
   "metadata": {},
   "outputs": [],
   "source": [
    "fm.max(), fm.min(), fm.std()"
   ]
  },
  {
   "cell_type": "code",
   "execution_count": null,
   "id": "bc6ce02d-c235-455e-b894-7ed57177b3ee",
   "metadata": {},
   "outputs": [],
   "source": [
    "plt.imshow(X[0,-3,:,:,:].numpy().transpose(1,2,0))"
   ]
  },
  {
   "cell_type": "code",
   "execution_count": null,
   "id": "c9dda5fd-910c-42de-b5ab-18d749ccbc43",
   "metadata": {},
   "outputs": [],
   "source": [
    "Y"
   ]
  },
  {
   "cell_type": "code",
   "execution_count": null,
   "id": "0e1d4114-6efe-4fd7-9acb-1a92ee7cd7c7",
   "metadata": {},
   "outputs": [],
   "source": [
    "X.min(), X.max() # (tensor(-2.1179), tensor(2.6400))"
   ]
  },
  {
   "cell_type": "code",
   "execution_count": null,
   "id": "400118ba-fa34-499f-b1fb-5a7cca0a95e8",
   "metadata": {},
   "outputs": [],
   "source": [
    "torch.mean(f"
   ]
  },
  {
   "cell_type": "code",
   "execution_count": null,
   "id": "b5834303-d63a-4d93-8c49-bee139601762",
   "metadata": {},
   "outputs": [],
   "source": [
    "L = torch.stack([\n",
    "            torch.max(torch.max(encoder(t), -1)[0],-1)[0] for t in torch.unbind(X, dim=1)], dim=1)"
   ]
  },
  {
   "cell_type": "code",
   "execution_count": null,
   "id": "22eb37f9-4ef4-49b7-8ae2-9a655fcd82aa",
   "metadata": {},
   "outputs": [],
   "source": [
    "L_mean = torch.stack([\n",
    "            torch.mean(torch.mean(encoder(t), -1),-1) for t in torch.unbind(X, dim=1)], dim=1)"
   ]
  },
  {
   "cell_type": "code",
   "execution_count": null,
   "id": "1d8b8878-36ef-44fd-952c-edc3106a891d",
   "metadata": {},
   "outputs": [],
   "source": [
    "L.shape"
   ]
  },
  {
   "cell_type": "code",
   "execution_count": null,
   "id": "a3d1c2c9-557e-431e-a197-5666d26f9715",
   "metadata": {},
   "outputs": [],
   "source": [
    "np.log10(L[0,:,:].detach().numpy().transpose()+1).max()"
   ]
  },
  {
   "cell_type": "code",
   "execution_count": null,
   "id": "bbbb64f9-31c6-4f0e-9508-dff3263544c8",
   "metadata": {},
   "outputs": [],
   "source": [
    "from matplotlib.lines import Line2D"
   ]
  },
  {
   "cell_type": "code",
   "execution_count": null,
   "id": "16811944-87b5-4865-8961-e2f1397ab6a7",
   "metadata": {},
   "outputs": [],
   "source": [
    "fig, ax = plt.subplots(1,1,figsize=(6,6))\n",
    "custom_lines = [Line2D([0], [0], color='#FF0000', lw=4)]\n",
    "ax.imshow(np.log10(L_mean[2,:,:].detach().numpy().transpose()+1), vmin=0, vmax=0.1)\n",
    "ax.set_aspect(0.05)\n",
    "ax.axvline(23, color='r')\n",
    "ax.set_ylabel('Latent Feature')\n",
    "ax.set_xlabel('Date')\n",
    "fig.legend(custom_lines, ['Actual Install Date'], loc='lower center')\n",
    "fig.savefig('./encoding_example.png')"
   ]
  },
  {
   "cell_type": "code",
   "execution_count": null,
   "id": "8f5877b7-8c72-45ef-850b-1e718dfbb607",
   "metadata": {},
   "outputs": [],
   "source": [
    "Y[2,:]"
   ]
  },
  {
   "cell_type": "code",
   "execution_count": null,
   "id": "b8234f50-c485-4dec-8241-bcfc13bd72df",
   "metadata": {},
   "outputs": [],
   "source": []
  },
  {
   "cell_type": "code",
   "execution_count": null,
   "id": "ddd7dae5-cde3-4147-ae8f-76f435699411",
   "metadata": {},
   "outputs": [],
   "source": []
  },
  {
   "cell_type": "code",
   "execution_count": null,
   "id": "23bc0a33-7e32-4015-ae36-d32886e9f51c",
   "metadata": {},
   "outputs": [],
   "source": [
    "fig, ax = plt.subplots(1,1,figsize=(6,6))\n",
    "ax.imshow(np.log10(L[0,:,:].detach().numpy().transpose()+1), vmin=0, vmax=1)\n",
    "ax.set_aspect(0.1)"
   ]
  },
  {
   "cell_type": "code",
   "execution_count": null,
   "id": "5a44e80f-fe36-45e8-8555-493ec59e25f7",
   "metadata": {},
   "outputs": [],
   "source": [
    "plt.imshow(L[0,:,:].detach().numpy().transpose(), aspect)"
   ]
  },
  {
   "cell_type": "code",
   "execution_count": null,
   "id": "50f49053-5b17-41a2-8657-2cc30a3ec0c8",
   "metadata": {},
   "outputs": [],
   "source": []
  }
 ],
 "metadata": {
  "kernelspec": {
   "display_name": "Python 3 (ipykernel)",
   "language": "python",
   "name": "python3"
  },
  "language_info": {
   "codemirror_mode": {
    "name": "ipython",
    "version": 3
   },
   "file_extension": ".py",
   "mimetype": "text/x-python",
   "name": "python",
   "nbconvert_exporter": "python",
   "pygments_lexer": "ipython3",
   "version": "3.8.13"
  }
 },
 "nbformat": 4,
 "nbformat_minor": 5
}
